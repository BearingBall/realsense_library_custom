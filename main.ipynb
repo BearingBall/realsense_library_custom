{
 "cells": [
  {
   "cell_type": "code",
   "execution_count": 1,
   "id": "answering-chain",
   "metadata": {},
   "outputs": [],
   "source": [
    "import realsense_photo as rsp"
   ]
  },
  {
   "cell_type": "code",
   "execution_count": 3,
   "id": "comparative-bread",
   "metadata": {},
   "outputs": [
    {
     "name": "stdout",
     "output_type": "stream",
     "text": [
      "taked 0\n",
      "taked 1\n",
      "taked 2\n"
     ]
    }
   ],
   "source": [
    "rsp.takePhoto(\"test\")"
   ]
  },
  {
   "cell_type": "code",
   "execution_count": null,
   "id": "unsigned-effectiveness",
   "metadata": {},
   "outputs": [],
   "source": [
    "rsp.showPhoto(\"test\")"
   ]
  },
  {
   "cell_type": "code",
   "execution_count": null,
   "id": "structured-neighborhood",
   "metadata": {},
   "outputs": [],
   "source": []
  }
 ],
 "metadata": {
  "kernelspec": {
   "display_name": "Python 3",
   "language": "python",
   "name": "python3"
  },
  "language_info": {
   "codemirror_mode": {
    "name": "ipython",
    "version": 3
   },
   "file_extension": ".py",
   "mimetype": "text/x-python",
   "name": "python",
   "nbconvert_exporter": "python",
   "pygments_lexer": "ipython3",
   "version": "3.6.8"
  }
 },
 "nbformat": 4,
 "nbformat_minor": 5
}
