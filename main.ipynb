{
 "cells": [
  {
   "cell_type": "code",
   "execution_count": 2,
   "id": "4787b6bb",
   "metadata": {},
   "outputs": [],
   "source": [
    "%load_ext autoreload\n",
    "%autoreload 2\n",
    "import realsense_photo as rsp"
   ]
  },
  {
   "cell_type": "code",
   "execution_count": 5,
   "id": "2088dca1",
   "metadata": {},
   "outputs": [
    {
     "name": "stdout",
     "output_type": "stream",
     "text": [
      "taked 0\n",
      "taked 1\n",
      "taked 2\n",
      "taked 3\n",
      "taked 4\n",
      "taked 5\n",
      "taked 6\n",
      "taked 7\n",
      "taked 8\n",
      "taked 9\n",
      "taked 10\n",
      "taked 11\n",
      "taked 12\n",
      "taked 13\n",
      "taked 14\n",
      "taked 15\n",
      "taked 16\n",
      "taked 17\n",
      "taked 18\n",
      "taked 19\n",
      "taked 20\n",
      "taked 21\n",
      "taked 22\n",
      "taked 23\n",
      "taked 24\n",
      "taked 25\n",
      "taked 26\n",
      "taked 27\n",
      "taked 28\n",
      "taked 29\n",
      "taked 30\n",
      "taked 31\n",
      "taked 32\n",
      "taked 33\n",
      "taked 34\n",
      "taked 35\n"
     ]
    }
   ],
   "source": [
    "rsp.takePhoto(\"new_corpus\")"
   ]
  },
  {
   "cell_type": "code",
   "execution_count": null,
   "id": "ce3391bc",
   "metadata": {},
   "outputs": [],
   "source": [
    "rsp.showPhoto(\"old_corpus\")"
   ]
  },
  {
   "cell_type": "code",
   "execution_count": 13,
   "id": "96e90d7d",
   "metadata": {},
   "outputs": [],
   "source": []
  },
  {
   "cell_type": "code",
   "execution_count": 18,
   "id": "d9371b24",
   "metadata": {},
   "outputs": [],
   "source": [
    "          \n",
    "getData(\"home\")"
   ]
  },
  {
   "cell_type": "code",
   "execution_count": null,
   "id": "36435657",
   "metadata": {},
   "outputs": [],
   "source": []
  }
 ],
 "metadata": {
  "kernelspec": {
   "display_name": "Python 3",
   "language": "python",
   "name": "python3"
  },
  "language_info": {
   "codemirror_mode": {
    "name": "ipython",
    "version": 3
   },
   "file_extension": ".py",
   "mimetype": "text/x-python",
   "name": "python",
   "nbconvert_exporter": "python",
   "pygments_lexer": "ipython3",
   "version": "3.9.2"
  }
 },
 "nbformat": 4,
 "nbformat_minor": 5
}
